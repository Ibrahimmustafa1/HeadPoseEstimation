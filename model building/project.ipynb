{
 "cells": [
  {
   "cell_type": "code",
   "execution_count": 1,
   "metadata": {},
   "outputs": [],
   "source": [
    "import cv2\n",
    "import numpy as np\n",
    "import glob\n",
    "import scipy.io as sio\n",
    "from math import cos, sin\n",
    "from pathlib import Path\n",
    "import pandas as pd\n",
    "import mediapipe\n",
    "import warnings     \n",
    "import pandas as pd\n",
    "import cv2\n",
    "import pickle\n",
    "warnings.filterwarnings('ignore')\n",
    "faceModule = mediapipe.solutions.face_mesh\n"
   ]
  },
  {
   "cell_type": "code",
   "execution_count": 2,
   "metadata": {},
   "outputs": [],
   "source": [
    "def draw_axis(img, pitch,yaw,roll, tdx=None, tdy=None, size = 100):\n",
    "\n",
    "    yaw = -yaw\n",
    "    if tdx != None and tdy != None:\n",
    "        tdx = tdx\n",
    "        tdy = tdy\n",
    "    else:\n",
    "        height, width = img.shape[:2]\n",
    "        tdx = width / 2\n",
    "        tdy = height / 2\n",
    "\n",
    "    # X-Axis pointing to right. drawn in red\n",
    "    x1 = size * (cos(yaw) * cos(roll)) + tdx\n",
    "    y1 = size * (cos(pitch) * sin(roll) + cos(roll) * sin(pitch) * sin(yaw)) + tdy\n",
    "\n",
    "    # Y-Axis | drawn in green\n",
    "    #        v\n",
    "    x2 = size * (-cos(yaw) * sin(roll)) + tdx\n",
    "    y2 = size * (cos(pitch) * cos(roll) - sin(pitch) * sin(yaw) * sin(roll)) + tdy\n",
    "\n",
    "    # Z-Axis (out of the screen) drawn in blue\n",
    "    x3 = size * (sin(yaw)) + tdx\n",
    "    y3 = size * (-cos(yaw) * sin(pitch)) + tdy\n",
    "\n",
    "    cv2.line(img, (int(tdx), int(tdy)), (int(x1),int(y1)),(0,0,255),3)\n",
    "    cv2.line(img, (int(tdx), int(tdy)), (int(x2),int(y2)),(0,255,0),3)\n",
    "    cv2.line(img, (int(tdx), int(tdy)), (int(x3),int(y3)),(255,0,0),2)\n",
    "\n",
    "    return img"
   ]
  },
  {
   "cell_type": "code",
   "execution_count": 3,
   "metadata": {},
   "outputs": [],
   "source": [
    "jpg_list = glob.glob(\"AFLW2000/*.jpg\")\n",
    "mat_list = glob.glob(\"AFLW2000/*.mat\")"
   ]
  },
  {
   "cell_type": "code",
   "execution_count": 4,
   "metadata": {},
   "outputs": [],
   "source": [
    "faceModule = mediapipe.solutions.face_mesh\n",
    "img_features = []\n",
    "all_img_features = []\n",
    "with faceModule.FaceMesh(static_image_mode=True) as faces:\n",
    "    for i in range(len(mat_list)):\n",
    "            \n",
    "            image = cv2.imread(jpg_list[i])\n",
    "            results = faces.process(cv2.cvtColor(image, cv2.COLOR_BGR2RGB))\n",
    "            if results.multi_face_landmarks != None: \n",
    "\n",
    "                for face in results.multi_face_landmarks:\n",
    "                    for landmark in face.landmark:\n",
    "                        x = landmark.x\n",
    "                        y = landmark.y\n",
    "                        shape = image.shape \n",
    "                        relative_x = int(x * shape[1])\n",
    "                        relative_y = int(y * shape[0])\n",
    "                        img_features.append(x)\n",
    "                        img_features.append(y)\n",
    "           \n",
    "            if len(img_features) > 0:\n",
    "                img_features[0::2] = (img_features[0::2] - np.mean(img_features[0::2])) / max(img_features[0::2] - np.mean(img_features[0::2]))\n",
    "                img_features[1::2] = (img_features[1::2] - np.mean(img_features[1::2])) / max(img_features[1::2] - np.mean(img_features[1::2]))\n",
    "                mat_file = sio.loadmat(mat_list[i])\n",
    "                pose_para = mat_file[\"Pose_Para\"][0][:3]\n",
    "                pitch = pose_para[0]\n",
    "                yaw = pose_para[1]\n",
    "                roll = pose_para[2]\n",
    "                img_features.append(pitch)\n",
    "                img_features.append(yaw)\n",
    "                img_features.append(roll)\n",
    "                all_img_features.append(img_features)\n",
    "                img_features = []\n"
   ]
  },
  {
   "cell_type": "code",
   "execution_count": 5,
   "metadata": {},
   "outputs": [
    {
     "data": {
      "text/html": [
       "<div>\n",
       "<style scoped>\n",
       "    .dataframe tbody tr th:only-of-type {\n",
       "        vertical-align: middle;\n",
       "    }\n",
       "\n",
       "    .dataframe tbody tr th {\n",
       "        vertical-align: top;\n",
       "    }\n",
       "\n",
       "    .dataframe thead th {\n",
       "        text-align: right;\n",
       "    }\n",
       "</style>\n",
       "<table border=\"1\" class=\"dataframe\">\n",
       "  <thead>\n",
       "    <tr style=\"text-align: right;\">\n",
       "      <th></th>\n",
       "      <th>0</th>\n",
       "      <th>1</th>\n",
       "      <th>2</th>\n",
       "      <th>3</th>\n",
       "      <th>4</th>\n",
       "      <th>5</th>\n",
       "      <th>6</th>\n",
       "      <th>7</th>\n",
       "      <th>8</th>\n",
       "      <th>9</th>\n",
       "      <th>...</th>\n",
       "      <th>929</th>\n",
       "      <th>930</th>\n",
       "      <th>931</th>\n",
       "      <th>932</th>\n",
       "      <th>933</th>\n",
       "      <th>934</th>\n",
       "      <th>935</th>\n",
       "      <th>936</th>\n",
       "      <th>937</th>\n",
       "      <th>938</th>\n",
       "    </tr>\n",
       "  </thead>\n",
       "  <tbody>\n",
       "    <tr>\n",
       "      <th>count</th>\n",
       "      <td>1853.000000</td>\n",
       "      <td>1853.000000</td>\n",
       "      <td>1853.000000</td>\n",
       "      <td>1853.000000</td>\n",
       "      <td>1853.000000</td>\n",
       "      <td>1853.000000</td>\n",
       "      <td>1853.000000</td>\n",
       "      <td>1853.000000</td>\n",
       "      <td>1853.000000</td>\n",
       "      <td>1853.000000</td>\n",
       "      <td>...</td>\n",
       "      <td>1853.000000</td>\n",
       "      <td>1853.000000</td>\n",
       "      <td>1853.000000</td>\n",
       "      <td>1853.000000</td>\n",
       "      <td>1853.000000</td>\n",
       "      <td>1853.000000</td>\n",
       "      <td>1853.000000</td>\n",
       "      <td>1853.000000</td>\n",
       "      <td>1853.000000</td>\n",
       "      <td>1853.000000</td>\n",
       "    </tr>\n",
       "    <tr>\n",
       "      <th>mean</th>\n",
       "      <td>0.050118</td>\n",
       "      <td>0.357779</td>\n",
       "      <td>0.076832</td>\n",
       "      <td>0.113921</td>\n",
       "      <td>0.045066</td>\n",
       "      <td>0.186762</td>\n",
       "      <td>-0.014477</td>\n",
       "      <td>-0.152543</td>\n",
       "      <td>0.078136</td>\n",
       "      <td>0.033892</td>\n",
       "      <td>...</td>\n",
       "      <td>-0.365268</td>\n",
       "      <td>0.143664</td>\n",
       "      <td>-0.346460</td>\n",
       "      <td>0.557394</td>\n",
       "      <td>-0.442963</td>\n",
       "      <td>0.595101</td>\n",
       "      <td>-0.476475</td>\n",
       "      <td>-0.095366</td>\n",
       "      <td>0.013611</td>\n",
       "      <td>-0.033167</td>\n",
       "    </tr>\n",
       "    <tr>\n",
       "      <th>std</th>\n",
       "      <td>0.211043</td>\n",
       "      <td>0.084489</td>\n",
       "      <td>0.319450</td>\n",
       "      <td>0.097210</td>\n",
       "      <td>0.187307</td>\n",
       "      <td>0.070779</td>\n",
       "      <td>0.224243</td>\n",
       "      <td>0.063877</td>\n",
       "      <td>0.330106</td>\n",
       "      <td>0.095496</td>\n",
       "      <td>...</td>\n",
       "      <td>0.053772</td>\n",
       "      <td>0.137146</td>\n",
       "      <td>0.047393</td>\n",
       "      <td>0.180097</td>\n",
       "      <td>0.147906</td>\n",
       "      <td>0.189136</td>\n",
       "      <td>0.159078</td>\n",
       "      <td>0.549292</td>\n",
       "      <td>0.580266</td>\n",
       "      <td>0.649282</td>\n",
       "    </tr>\n",
       "    <tr>\n",
       "      <th>min</th>\n",
       "      <td>-0.317269</td>\n",
       "      <td>-0.334646</td>\n",
       "      <td>-0.347379</td>\n",
       "      <td>-0.258413</td>\n",
       "      <td>-0.239069</td>\n",
       "      <td>-0.177171</td>\n",
       "      <td>-0.296759</td>\n",
       "      <td>-0.358660</td>\n",
       "      <td>-0.357359</td>\n",
       "      <td>-0.324889</td>\n",
       "      <td>...</td>\n",
       "      <td>-0.495162</td>\n",
       "      <td>-0.405693</td>\n",
       "      <td>-0.439238</td>\n",
       "      <td>-1.515909</td>\n",
       "      <td>-1.072438</td>\n",
       "      <td>-1.684238</td>\n",
       "      <td>-1.144383</td>\n",
       "      <td>-12.457202</td>\n",
       "      <td>-6.130066</td>\n",
       "      <td>-16.969362</td>\n",
       "    </tr>\n",
       "    <tr>\n",
       "      <th>25%</th>\n",
       "      <td>-0.080246</td>\n",
       "      <td>0.316445</td>\n",
       "      <td>-0.127263</td>\n",
       "      <td>0.057871</td>\n",
       "      <td>-0.079143</td>\n",
       "      <td>0.148360</td>\n",
       "      <td>-0.171045</td>\n",
       "      <td>-0.194567</td>\n",
       "      <td>-0.141012</td>\n",
       "      <td>-0.023871</td>\n",
       "      <td>...</td>\n",
       "      <td>-0.392614</td>\n",
       "      <td>0.048115</td>\n",
       "      <td>-0.369598</td>\n",
       "      <td>0.445391</td>\n",
       "      <td>-0.517476</td>\n",
       "      <td>0.485262</td>\n",
       "      <td>-0.557641</td>\n",
       "      <td>-0.246453</td>\n",
       "      <td>-0.256714</td>\n",
       "      <td>-0.160274</td>\n",
       "    </tr>\n",
       "    <tr>\n",
       "      <th>50%</th>\n",
       "      <td>0.002515</td>\n",
       "      <td>0.363434</td>\n",
       "      <td>-0.011509</td>\n",
       "      <td>0.118988</td>\n",
       "      <td>-0.005902</td>\n",
       "      <td>0.190487</td>\n",
       "      <td>-0.084479</td>\n",
       "      <td>-0.153113</td>\n",
       "      <td>-0.012336</td>\n",
       "      <td>0.038910</td>\n",
       "      <td>...</td>\n",
       "      <td>-0.373379</td>\n",
       "      <td>0.134648</td>\n",
       "      <td>-0.354470</td>\n",
       "      <td>0.588281</td>\n",
       "      <td>-0.450775</td>\n",
       "      <td>0.627190</td>\n",
       "      <td>-0.481904</td>\n",
       "      <td>-0.123371</td>\n",
       "      <td>0.019403</td>\n",
       "      <td>-0.017463</td>\n",
       "    </tr>\n",
       "    <tr>\n",
       "      <th>75%</th>\n",
       "      <td>0.104854</td>\n",
       "      <td>0.411350</td>\n",
       "      <td>0.172563</td>\n",
       "      <td>0.176731</td>\n",
       "      <td>0.105981</td>\n",
       "      <td>0.232178</td>\n",
       "      <td>0.061948</td>\n",
       "      <td>-0.115785</td>\n",
       "      <td>0.187013</td>\n",
       "      <td>0.094297</td>\n",
       "      <td>...</td>\n",
       "      <td>-0.349801</td>\n",
       "      <td>0.227109</td>\n",
       "      <td>-0.335001</td>\n",
       "      <td>0.683192</td>\n",
       "      <td>-0.376676</td>\n",
       "      <td>0.725095</td>\n",
       "      <td>-0.405300</td>\n",
       "      <td>0.028133</td>\n",
       "      <td>0.305791</td>\n",
       "      <td>0.126460</td>\n",
       "    </tr>\n",
       "    <tr>\n",
       "      <th>max</th>\n",
       "      <td>0.833079</td>\n",
       "      <td>0.657725</td>\n",
       "      <td>0.976003</td>\n",
       "      <td>0.592302</td>\n",
       "      <td>0.631916</td>\n",
       "      <td>0.473462</td>\n",
       "      <td>0.696864</td>\n",
       "      <td>0.218929</td>\n",
       "      <td>0.983205</td>\n",
       "      <td>0.528712</td>\n",
       "      <td>...</td>\n",
       "      <td>0.425557</td>\n",
       "      <td>0.541027</td>\n",
       "      <td>0.401990</td>\n",
       "      <td>0.851204</td>\n",
       "      <td>0.579290</td>\n",
       "      <td>0.891730</td>\n",
       "      <td>0.627716</td>\n",
       "      <td>15.598820</td>\n",
       "      <td>3.277500</td>\n",
       "      <td>2.166107</td>\n",
       "    </tr>\n",
       "  </tbody>\n",
       "</table>\n",
       "<p>8 rows × 939 columns</p>\n",
       "</div>"
      ],
      "text/plain": [
       "               0            1            2            3            4    \\\n",
       "count  1853.000000  1853.000000  1853.000000  1853.000000  1853.000000   \n",
       "mean      0.050118     0.357779     0.076832     0.113921     0.045066   \n",
       "std       0.211043     0.084489     0.319450     0.097210     0.187307   \n",
       "min      -0.317269    -0.334646    -0.347379    -0.258413    -0.239069   \n",
       "25%      -0.080246     0.316445    -0.127263     0.057871    -0.079143   \n",
       "50%       0.002515     0.363434    -0.011509     0.118988    -0.005902   \n",
       "75%       0.104854     0.411350     0.172563     0.176731     0.105981   \n",
       "max       0.833079     0.657725     0.976003     0.592302     0.631916   \n",
       "\n",
       "               5            6            7            8            9    ...  \\\n",
       "count  1853.000000  1853.000000  1853.000000  1853.000000  1853.000000  ...   \n",
       "mean      0.186762    -0.014477    -0.152543     0.078136     0.033892  ...   \n",
       "std       0.070779     0.224243     0.063877     0.330106     0.095496  ...   \n",
       "min      -0.177171    -0.296759    -0.358660    -0.357359    -0.324889  ...   \n",
       "25%       0.148360    -0.171045    -0.194567    -0.141012    -0.023871  ...   \n",
       "50%       0.190487    -0.084479    -0.153113    -0.012336     0.038910  ...   \n",
       "75%       0.232178     0.061948    -0.115785     0.187013     0.094297  ...   \n",
       "max       0.473462     0.696864     0.218929     0.983205     0.528712  ...   \n",
       "\n",
       "               929          930          931          932          933  \\\n",
       "count  1853.000000  1853.000000  1853.000000  1853.000000  1853.000000   \n",
       "mean     -0.365268     0.143664    -0.346460     0.557394    -0.442963   \n",
       "std       0.053772     0.137146     0.047393     0.180097     0.147906   \n",
       "min      -0.495162    -0.405693    -0.439238    -1.515909    -1.072438   \n",
       "25%      -0.392614     0.048115    -0.369598     0.445391    -0.517476   \n",
       "50%      -0.373379     0.134648    -0.354470     0.588281    -0.450775   \n",
       "75%      -0.349801     0.227109    -0.335001     0.683192    -0.376676   \n",
       "max       0.425557     0.541027     0.401990     0.851204     0.579290   \n",
       "\n",
       "               934          935          936          937          938  \n",
       "count  1853.000000  1853.000000  1853.000000  1853.000000  1853.000000  \n",
       "mean      0.595101    -0.476475    -0.095366     0.013611    -0.033167  \n",
       "std       0.189136     0.159078     0.549292     0.580266     0.649282  \n",
       "min      -1.684238    -1.144383   -12.457202    -6.130066   -16.969362  \n",
       "25%       0.485262    -0.557641    -0.246453    -0.256714    -0.160274  \n",
       "50%       0.627190    -0.481904    -0.123371     0.019403    -0.017463  \n",
       "75%       0.725095    -0.405300     0.028133     0.305791     0.126460  \n",
       "max       0.891730     0.627716    15.598820     3.277500     2.166107  \n",
       "\n",
       "[8 rows x 939 columns]"
      ]
     },
     "execution_count": 5,
     "metadata": {},
     "output_type": "execute_result"
    }
   ],
   "source": [
    "df = pd.DataFrame(all_img_features)\n",
    "df.describe()"
   ]
  },
  {
   "cell_type": "code",
   "execution_count": 6,
   "metadata": {},
   "outputs": [],
   "source": [
    "X = df.iloc[:,:-3]\n",
    "y = df.iloc[:,-3:]"
   ]
  },
  {
   "cell_type": "code",
   "execution_count": 18,
   "metadata": {},
   "outputs": [],
   "source": [
    "from sklearn.model_selection import train_test_split\n",
    "from sklearn.linear_model import LinearRegression\n",
    "from sklearn.tree import DecisionTreeRegressor\n",
    "from sklearn.ensemble import RandomForestRegressor\n",
    "from sklearn.svm import SVR\n",
    "from sklearn.ensemble import AdaBoostRegressor\n",
    "import xgboost as xgb\n",
    "from sklearn.metrics import mean_squared_error\n",
    "from sklearn.model_selection import GridSearchCV\n",
    "from sklearn.multioutput import MultiOutputRegressor\n",
    "from sklearn import linear_model"
   ]
  },
  {
   "cell_type": "markdown",
   "metadata": {},
   "source": [
    "i will Divide Dataset into train , val , test  "
   ]
  },
  {
   "cell_type": "code",
   "execution_count": 8,
   "metadata": {},
   "outputs": [],
   "source": [
    "x_train, x_test, y_train, y_test = train_test_split(X, y, test_size=0.2, random_state=42)\n",
    "x_val, x_test, y_val, y_test = train_test_split(x_test, y_test, test_size=0.5, random_state=42)"
   ]
  },
  {
   "cell_type": "markdown",
   "metadata": {},
   "source": [
    "let's try at first linear regression and it's familly (lasso and ridge)"
   ]
  },
  {
   "cell_type": "code",
   "execution_count": 9,
   "metadata": {},
   "outputs": [
    {
     "name": "stdout",
     "output_type": "stream",
     "text": [
      "Linear Regression Train Score : 0.9846423048213852\n",
      "Linear Regression Validation Score : -4.525342221291463\n",
      "Linear Regression Test Score : -1.892008099952785\n"
     ]
    }
   ],
   "source": [
    "linear_reg = LinearRegression()\n",
    "linear_reg.fit(x_train, y_train)\n",
    "print(\"Linear Regression Train Score :\", linear_reg.score(x_train, y_train))\n",
    "print(\"Linear Regression Validation Score :\", linear_reg.score(x_val, y_val))\n",
    "print(\"Linear Regression Test Score :\", linear_reg.score(x_test, y_test))"
   ]
  },
  {
   "cell_type": "code",
   "execution_count": 10,
   "metadata": {},
   "outputs": [
    {
     "data": {
      "text/html": [
       "<style>#sk-container-id-1 {color: black;}#sk-container-id-1 pre{padding: 0;}#sk-container-id-1 div.sk-toggleable {background-color: white;}#sk-container-id-1 label.sk-toggleable__label {cursor: pointer;display: block;width: 100%;margin-bottom: 0;padding: 0.3em;box-sizing: border-box;text-align: center;}#sk-container-id-1 label.sk-toggleable__label-arrow:before {content: \"▸\";float: left;margin-right: 0.25em;color: #696969;}#sk-container-id-1 label.sk-toggleable__label-arrow:hover:before {color: black;}#sk-container-id-1 div.sk-estimator:hover label.sk-toggleable__label-arrow:before {color: black;}#sk-container-id-1 div.sk-toggleable__content {max-height: 0;max-width: 0;overflow: hidden;text-align: left;background-color: #f0f8ff;}#sk-container-id-1 div.sk-toggleable__content pre {margin: 0.2em;color: black;border-radius: 0.25em;background-color: #f0f8ff;}#sk-container-id-1 input.sk-toggleable__control:checked~div.sk-toggleable__content {max-height: 200px;max-width: 100%;overflow: auto;}#sk-container-id-1 input.sk-toggleable__control:checked~label.sk-toggleable__label-arrow:before {content: \"▾\";}#sk-container-id-1 div.sk-estimator input.sk-toggleable__control:checked~label.sk-toggleable__label {background-color: #d4ebff;}#sk-container-id-1 div.sk-label input.sk-toggleable__control:checked~label.sk-toggleable__label {background-color: #d4ebff;}#sk-container-id-1 input.sk-hidden--visually {border: 0;clip: rect(1px 1px 1px 1px);clip: rect(1px, 1px, 1px, 1px);height: 1px;margin: -1px;overflow: hidden;padding: 0;position: absolute;width: 1px;}#sk-container-id-1 div.sk-estimator {font-family: monospace;background-color: #f0f8ff;border: 1px dotted black;border-radius: 0.25em;box-sizing: border-box;margin-bottom: 0.5em;}#sk-container-id-1 div.sk-estimator:hover {background-color: #d4ebff;}#sk-container-id-1 div.sk-parallel-item::after {content: \"\";width: 100%;border-bottom: 1px solid gray;flex-grow: 1;}#sk-container-id-1 div.sk-label:hover label.sk-toggleable__label {background-color: #d4ebff;}#sk-container-id-1 div.sk-serial::before {content: \"\";position: absolute;border-left: 1px solid gray;box-sizing: border-box;top: 0;bottom: 0;left: 50%;z-index: 0;}#sk-container-id-1 div.sk-serial {display: flex;flex-direction: column;align-items: center;background-color: white;padding-right: 0.2em;padding-left: 0.2em;position: relative;}#sk-container-id-1 div.sk-item {position: relative;z-index: 1;}#sk-container-id-1 div.sk-parallel {display: flex;align-items: stretch;justify-content: center;background-color: white;position: relative;}#sk-container-id-1 div.sk-item::before, #sk-container-id-1 div.sk-parallel-item::before {content: \"\";position: absolute;border-left: 1px solid gray;box-sizing: border-box;top: 0;bottom: 0;left: 50%;z-index: -1;}#sk-container-id-1 div.sk-parallel-item {display: flex;flex-direction: column;z-index: 1;position: relative;background-color: white;}#sk-container-id-1 div.sk-parallel-item:first-child::after {align-self: flex-end;width: 50%;}#sk-container-id-1 div.sk-parallel-item:last-child::after {align-self: flex-start;width: 50%;}#sk-container-id-1 div.sk-parallel-item:only-child::after {width: 0;}#sk-container-id-1 div.sk-dashed-wrapped {border: 1px dashed gray;margin: 0 0.4em 0.5em 0.4em;box-sizing: border-box;padding-bottom: 0.4em;background-color: white;}#sk-container-id-1 div.sk-label label {font-family: monospace;font-weight: bold;display: inline-block;line-height: 1.2em;}#sk-container-id-1 div.sk-label-container {text-align: center;}#sk-container-id-1 div.sk-container {/* jupyter's `normalize.less` sets `[hidden] { display: none; }` but bootstrap.min.css set `[hidden] { display: none !important; }` so we also need the `!important` here to be able to override the default hidden behavior on the sphinx rendered scikit-learn.org. See: https://github.com/scikit-learn/scikit-learn/issues/21755 */display: inline-block !important;position: relative;}#sk-container-id-1 div.sk-text-repr-fallback {display: none;}</style><div id=\"sk-container-id-1\" class=\"sk-top-container\"><div class=\"sk-text-repr-fallback\"><pre>Ridge(alpha=0.001, max_iter=10000000)</pre><b>In a Jupyter environment, please rerun this cell to show the HTML representation or trust the notebook. <br />On GitHub, the HTML representation is unable to render, please try loading this page with nbviewer.org.</b></div><div class=\"sk-container\" hidden><div class=\"sk-item\"><div class=\"sk-estimator sk-toggleable\"><input class=\"sk-toggleable__control sk-hidden--visually\" id=\"sk-estimator-id-1\" type=\"checkbox\" checked><label for=\"sk-estimator-id-1\" class=\"sk-toggleable__label sk-toggleable__label-arrow\">Ridge</label><div class=\"sk-toggleable__content\"><pre>Ridge(alpha=0.001, max_iter=10000000)</pre></div></div></div></div></div>"
      ],
      "text/plain": [
       "Ridge(alpha=0.001, max_iter=10000000)"
      ]
     },
     "execution_count": 10,
     "metadata": {},
     "output_type": "execute_result"
    }
   ],
   "source": [
    "lasso_reg = linear_model.Lasso(alpha=0.001 ,max_iter=10000000)\n",
    "lasso_reg.fit(x_train, y_train)\n",
    "ridge_reg = linear_model.Ridge(alpha=0.001, max_iter=10000000)  \n",
    "ridge_reg.fit(x_train, y_train)"
   ]
  },
  {
   "cell_type": "code",
   "execution_count": 11,
   "metadata": {},
   "outputs": [
    {
     "name": "stdout",
     "output_type": "stream",
     "text": [
      "Train Score\n",
      "Lasso Regression Train Score:  0.42773854772741404\n",
      "Ridge Regression Train Score:  0.747144088066178\n",
      "-----------------\n",
      "Validation Score\n",
      "Lasso Regression Validation Score:  0.6981371222715502\n",
      "Ridge Regression Validation Score:  -0.4986461572512675\n",
      "-----------------\n",
      "Test Score\n",
      "Lasso Regression Test Score:  0.7468433511756118\n",
      "Ridge Regression Test Score:  0.13112764639763086\n"
     ]
    }
   ],
   "source": [
    "print(\"Train Score\")\n",
    "print(\"Lasso Regression Train Score: \", lasso_reg.score(x_train, y_train))\n",
    "print(\"Ridge Regression Train Score: \", ridge_reg.score(x_train, y_train))\n",
    "print(\"-----------------\")\n",
    "print(\"Validation Score\")\n",
    "print(\"Lasso Regression Validation Score: \", lasso_reg.score(x_val, y_val))\n",
    "print(\"Ridge Regression Validation Score: \", ridge_reg.score(x_val, y_val))\n",
    "print(\"-----------------\")\n",
    "\n",
    "print(\"Test Score\")\n",
    "print(\"Lasso Regression Test Score: \", lasso_reg.score(x_test, y_test))\n",
    "print(\"Ridge Regression Test Score: \", ridge_reg.score(x_test, y_test))\n"
   ]
  },
  {
   "cell_type": "code",
   "execution_count": 70,
   "metadata": {},
   "outputs": [
    {
     "name": "stdout",
     "output_type": "stream",
     "text": [
      "Decision Tree Train Score:  0.28826812517183015\n",
      "Decision Tree Validation Score:  0.41425844789872085\n",
      "Decision Tree Test Score:  0.3913897997847446\n"
     ]
    }
   ],
   "source": [
    "DecisionTree = DecisionTreeRegressor(max_depth=30, random_state=42, max_features=0.6, min_samples_leaf=0.1, min_samples_split=0.1, splitter='best')\n",
    "DecisionTree.fit(x_train, y_train)\n",
    "print(\"Decision Tree Train Score: \", DecisionTree.score(x_train, y_train))\n",
    "print(\"Decision Tree Validation Score: \", DecisionTree.score(x_val, y_val))\n",
    "print(\"Decision Tree Test Score: \", DecisionTree.score(x_test, y_test))"
   ]
  },
  {
   "cell_type": "code",
   "execution_count": 71,
   "metadata": {},
   "outputs": [
    {
     "name": "stdout",
     "output_type": "stream",
     "text": [
      "Random Forest Train Score:  0.8534033716585916\n",
      "Random Forest Validation Score:  0.1625596372932959\n",
      "Random Forest Test Score:  0.3276620329855655\n"
     ]
    }
   ],
   "source": [
    "random_forest_reg = RandomForestRegressor(max_depth=5,n_estimators=350)\n",
    "random_forest_reg = random_forest_reg.fit(x_train, y_train)\n",
    "print(\"Random Forest Train Score: \", random_forest_reg.score(x_train, y_train))\n",
    "print(\"Random Forest Validation Score: \", random_forest_reg.score(x_val, y_val))\n",
    "print(\"Random Forest Test Score: \", random_forest_reg.score(x_test, y_test))"
   ]
  },
  {
   "cell_type": "code",
   "execution_count": 62,
   "metadata": {},
   "outputs": [],
   "source": [
    "parameters = {\n",
    "    'estimator__base_estimator': [DecisionTreeRegressor(max_depth=3)],\n",
    "    'estimator__n_estimators': [50,80,100],\n",
    "    'estimator__learning_rate': [0.001,0.01,0.1]\n",
    "}\n",
    "# Create the GridSearchCV object\n",
    "grid_search = GridSearchCV(MultiOutputRegressor(AdaBoostRegressor()), parameters)\n",
    "grid_search.fit(x_train, y_train)\n",
    "\n",
    "# Get the best AdaBoostRegressor model\n",
    "best_ada_boost = grid_search.best_estimator_"
   ]
  },
  {
   "cell_type": "code",
   "execution_count": 23,
   "metadata": {},
   "outputs": [
    {
     "name": "stdout",
     "output_type": "stream",
     "text": [
      "AdaBoostRegressor Train Score:  0.9027194140006677\n",
      "AdaBoostRegressor Validation Score:  0.695940953385923\n",
      "AdaBoostRegressor Test Score:  0.7847148216882159\n"
     ]
    }
   ],
   "source": [
    "adaBoostRegressor = MultiOutputRegressor(AdaBoostRegressor(n_estimators=500, learning_rate=0.001, random_state=42))\n",
    "adaBoostRegressor.fit(x_train, y_train)\n",
    "print(\"AdaBoostRegressor Train Score: \", adaBoostRegressor.score(x_train, y_train))\n",
    "print(\"AdaBoostRegressor Validation Score: \", adaBoostRegressor.score(x_val, y_val))\n",
    "print(\"AdaBoostRegressor Test Score: \", adaBoostRegressor.score(x_test, y_test))"
   ]
  },
  {
   "cell_type": "code",
   "execution_count": 66,
   "metadata": {},
   "outputs": [],
   "source": [
    "parameters = {\n",
    "    'estimator__kernel':['rbf','linear','poly'],\n",
    "    'estimator__C':[1,10,100],\n",
    "    'estimator__gamma':[0.1,0.05,0.001],\n",
    "    'estimator__degree':[1,2,3,4,5,6],\n",
    "    'estimator__epsilon':[0.1,0.01,0.005],\n",
    "    }\n",
    "svr_reg = GridSearchCV(MultiOutputRegressor(SVR()), parameters)\n",
    "svr_reg.fit(x_train, y_train)\n",
    "best_svr = svr_reg.best_estimator_"
   ]
  },
  {
   "cell_type": "code",
   "execution_count": 15,
   "metadata": {},
   "outputs": [
    {
     "name": "stdout",
     "output_type": "stream",
     "text": [
      "SVR Train Score:  0.44307041589666607\n",
      "SVR Validation Score:  0.8093023899202065\n",
      "SVR Test Score:  0.9086181751738863\n"
     ]
    }
   ],
   "source": [
    "svr_reg = MultiOutputRegressor(SVR(kernel='rbf',C=3,gamma=0.005,degree=3,epsilon=0.005))\n",
    "svr_reg.fit(x_train, y_train)\n",
    "print(\"SVR Train Score: \", svr_reg.score(x_train, y_train))\n",
    "print(\"SVR Validation Score: \", svr_reg.score(x_val, y_val))\n",
    "print(\"SVR Test Score: \", svr_reg.score(x_test, y_test))"
   ]
  },
  {
   "cell_type": "code",
   "execution_count": null,
   "metadata": {},
   "outputs": [
    {
     "name": "stdout",
     "output_type": "stream",
     "text": [
      "XGBRegressor Train Score:  0.7752879067012247\n",
      "XGBRegressor Validation Score:  -2.3581231976174206\n",
      "XGBRegressor Test Score:  -0.2301165780126344\n"
     ]
    }
   ],
   "source": [
    "xgb_regressor = xgb.XGBRegressor(n_estimators=150, max_depth=3, learning_rate=0.009, random_state=42)\n",
    "multioutput_regressor = MultiOutputRegressor(xgb_regressor)\n",
    "xgb_reg_winner = multioutput_regressor.fit(x_train, y_train)\n",
    "print(\"XGBRegressor Train Score: \", xgb_reg_winner.score(x_train, y_train))\n",
    "print(\"XGBRegressor Validation Score: \", xgb_reg_winner.score(x_val, y_val))\n",
    "print(\"XGBRegressor Test Score: \", xgb_reg_winner.score(x_test, y_test))"
   ]
  },
  {
   "cell_type": "code",
   "execution_count": 91,
   "metadata": {},
   "outputs": [
    {
     "data": {
      "text/html": [
       "<div>\n",
       "<style scoped>\n",
       "    .dataframe tbody tr th:only-of-type {\n",
       "        vertical-align: middle;\n",
       "    }\n",
       "\n",
       "    .dataframe tbody tr th {\n",
       "        vertical-align: top;\n",
       "    }\n",
       "\n",
       "    .dataframe thead th {\n",
       "        text-align: right;\n",
       "    }\n",
       "</style>\n",
       "<table border=\"1\" class=\"dataframe\">\n",
       "  <thead>\n",
       "    <tr style=\"text-align: right;\">\n",
       "      <th></th>\n",
       "      <th>Model</th>\n",
       "      <th>Train Score</th>\n",
       "      <th>Validation Score</th>\n",
       "      <th>Test Score</th>\n",
       "    </tr>\n",
       "  </thead>\n",
       "  <tbody>\n",
       "    <tr>\n",
       "      <th>0</th>\n",
       "      <td>Linear Regression</td>\n",
       "      <td>0.984642</td>\n",
       "      <td>-4.525342</td>\n",
       "      <td>-1.892008</td>\n",
       "    </tr>\n",
       "    <tr>\n",
       "      <th>1</th>\n",
       "      <td>Ridge</td>\n",
       "      <td>0.747144</td>\n",
       "      <td>-0.498646</td>\n",
       "      <td>0.131128</td>\n",
       "    </tr>\n",
       "    <tr>\n",
       "      <th>2</th>\n",
       "      <td>Lasso</td>\n",
       "      <td>0.427739</td>\n",
       "      <td>0.698137</td>\n",
       "      <td>0.746843</td>\n",
       "    </tr>\n",
       "    <tr>\n",
       "      <th>3</th>\n",
       "      <td>Decision Tree</td>\n",
       "      <td>0.288268</td>\n",
       "      <td>0.414258</td>\n",
       "      <td>0.391390</td>\n",
       "    </tr>\n",
       "    <tr>\n",
       "      <th>4</th>\n",
       "      <td>Random Forest</td>\n",
       "      <td>0.853403</td>\n",
       "      <td>0.162560</td>\n",
       "      <td>0.327662</td>\n",
       "    </tr>\n",
       "    <tr>\n",
       "      <th>5</th>\n",
       "      <td>AdaBoost</td>\n",
       "      <td>0.425087</td>\n",
       "      <td>0.666200</td>\n",
       "      <td>0.730508</td>\n",
       "    </tr>\n",
       "    <tr>\n",
       "      <th>6</th>\n",
       "      <td>SVR</td>\n",
       "      <td>0.443070</td>\n",
       "      <td>0.809302</td>\n",
       "      <td>0.908618</td>\n",
       "    </tr>\n",
       "    <tr>\n",
       "      <th>7</th>\n",
       "      <td>XGBoost</td>\n",
       "      <td>0.775288</td>\n",
       "      <td>-2.358123</td>\n",
       "      <td>-0.230117</td>\n",
       "    </tr>\n",
       "  </tbody>\n",
       "</table>\n",
       "</div>"
      ],
      "text/plain": [
       "               Model  Train Score  Validation Score  Test Score\n",
       "0  Linear Regression     0.984642         -4.525342   -1.892008\n",
       "1              Ridge     0.747144         -0.498646    0.131128\n",
       "2              Lasso     0.427739          0.698137    0.746843\n",
       "3      Decision Tree     0.288268          0.414258    0.391390\n",
       "4      Random Forest     0.853403          0.162560    0.327662\n",
       "5           AdaBoost     0.425087          0.666200    0.730508\n",
       "6                SVR     0.443070          0.809302    0.908618\n",
       "7            XGBoost     0.775288         -2.358123   -0.230117"
      ]
     },
     "execution_count": 91,
     "metadata": {},
     "output_type": "execute_result"
    }
   ],
   "source": [
    "report = pd.DataFrame({\n",
    "    'Model': ['Linear Regression', 'Ridge','Lasso','Decision Tree', 'Random Forest', 'AdaBoost', 'SVR', 'XGBoost'],\n",
    "    \"Train Score\": [linear_reg.score(x_train, y_train), ridge_reg.score(x_train, y_train), lasso_reg.score(x_train, y_train), DecisionTree.score(x_train, y_train), random_forest_reg.score(x_train, y_train), adaBoostRegressor.score(x_train, y_train), svr_reg.score(x_train, y_train), xgb_reg_winner.score(x_train, y_train)],\n",
    "    \"Validation Score\": [linear_reg.score(x_val, y_val), ridge_reg.score(x_val, y_val), lasso_reg.score(x_val, y_val), DecisionTree.score(x_val, y_val), random_forest_reg.score(x_val, y_val), adaBoostRegressor.score(x_val, y_val), svr_reg.score(x_val, y_val), xgb_reg_winner.score(x_val, y_val)],\n",
    "    \"Test Score\": [linear_reg.score(x_test, y_test), ridge_reg.score(x_test, y_test), lasso_reg.score(x_test, y_test), DecisionTree.score(x_test, y_test), random_forest_reg.score(x_test, y_test), adaBoostRegressor.score(x_test, y_test), svr_reg.score(x_test, y_test), xgb_reg_winner.score(x_test, y_test)]\n",
    "})\n",
    "report"
   ]
  },
  {
   "cell_type": "code",
   "execution_count": 96,
   "metadata": {},
   "outputs": [
    {
     "data": {
      "text/html": [
       "<div>\n",
       "<style scoped>\n",
       "    .dataframe tbody tr th:only-of-type {\n",
       "        vertical-align: middle;\n",
       "    }\n",
       "\n",
       "    .dataframe tbody tr th {\n",
       "        vertical-align: top;\n",
       "    }\n",
       "\n",
       "    .dataframe thead th {\n",
       "        text-align: right;\n",
       "    }\n",
       "</style>\n",
       "<table border=\"1\" class=\"dataframe\">\n",
       "  <thead>\n",
       "    <tr style=\"text-align: right;\">\n",
       "      <th></th>\n",
       "      <th>Model</th>\n",
       "      <th>Train Score</th>\n",
       "      <th>Validation Score</th>\n",
       "      <th>Test Score</th>\n",
       "    </tr>\n",
       "  </thead>\n",
       "  <tbody>\n",
       "    <tr>\n",
       "      <th>6</th>\n",
       "      <td>SVR</td>\n",
       "      <td>0.44307</td>\n",
       "      <td>0.809302</td>\n",
       "      <td>0.908618</td>\n",
       "    </tr>\n",
       "  </tbody>\n",
       "</table>\n",
       "</div>"
      ],
      "text/plain": [
       "  Model  Train Score  Validation Score  Test Score\n",
       "6   SVR      0.44307          0.809302    0.908618"
      ]
     },
     "execution_count": 96,
     "metadata": {},
     "output_type": "execute_result"
    }
   ],
   "source": [
    "# get the maximum row\n",
    "report[report['Test Score'] == report['Test Score'].max()]"
   ]
  },
  {
   "cell_type": "markdown",
   "metadata": {},
   "source": [
    "So it's Clear that SVR Is The Best Model In Test And Validate Set So I will Use This Model"
   ]
  },
  {
   "cell_type": "code",
   "execution_count": 99,
   "metadata": {},
   "outputs": [],
   "source": [
    "filename = 'ridge_model.sav'\n",
    "pickle.dump(ridge_reg, open(filename, 'wb'))\n",
    "\n",
    "filename = 'lasso_model.sav'\n",
    "pickle.dump(lasso_reg, open(filename, 'wb'))\n",
    "\n",
    "filename = 'DecisionTree_model.sav'\n",
    "pickle.dump(DecisionTree, open(filename, 'wb'))\n",
    "\n",
    "filename = 'RandomForest_model.sav'\n",
    "pickle.dump(random_forest_reg, open(filename, 'wb'))\n",
    "\n",
    "filename = 'AdaBoost_model.sav'\n",
    "pickle.dump(adaBoostRegressor, open(filename, 'wb'))\n",
    "\n",
    "filename = 'SVR_model.sav'\n",
    "pickle.dump(svr_reg, open(filename, 'wb'))\n",
    "\n",
    "filename = 'XGBoost_model.sav'\n",
    "pickle.dump(xgb_reg_winner, open(filename, 'wb'))"
   ]
  },
  {
   "cell_type": "code",
   "execution_count": 3,
   "metadata": {},
   "outputs": [],
   "source": [
    "# ridge_regression = pickle.load(open('ridge_model.sav', 'rb'))\n",
    "# lasso_regression = pickle.load(open('lasso_model.sav', 'rb'))\n",
    "# decision_tree = joblib.load('DecisionTree_model.sav')\n",
    "svr = pickle.load(open('SVR_model.sav', 'rb'))\n",
    "# # adaboost = joblib.load('AdaBoost_model.sav')\n",
    "# xgboost = joblib.load('XGBoost_model.sav')"
   ]
  },
  {
   "cell_type": "code",
   "execution_count": 4,
   "metadata": {},
   "outputs": [],
   "source": [
    "def extract_landmarks(image):\n",
    "    img_features = []\n",
    "    img_features2 = []\n",
    "    with faceModule.FaceMesh(static_image_mode=True) as faces:\n",
    "        results = faces.process(cv2.cvtColor(image, cv2.COLOR_BGR2RGB))\n",
    "        if results.multi_face_landmarks != None: \n",
    "            for face in results.multi_face_landmarks:\n",
    "                for landmark in face.landmark:\n",
    "                    x = landmark.x\n",
    "                    y = landmark.y\n",
    "                    img_features.append(x)\n",
    "                    img_features.append(y)\n",
    "            if len(img_features) > 0:\n",
    "                img_features2 = img_features.copy()\n",
    "                img_features[0::2] = (img_features[0::2] - np.mean(img_features[0::2])) / max(img_features[0::2] - np.mean(img_features[0::2]))\n",
    "                img_features[1::2] = (img_features[1::2] - np.mean(img_features[1::2])) / max(img_features[1::2] - np.mean(img_features[1::2]))\n",
    "    return img_features , img_features2"
   ]
  },
  {
   "cell_type": "code",
   "execution_count": 5,
   "metadata": {},
   "outputs": [],
   "source": [
    "def predict_pose(image, model):\n",
    "    img_features , img_features2 = extract_landmarks(image)\n",
    "    if image.shape == (0,) or len(img_features) == 0:\n",
    "        return None\n",
    "    img_features = np.array(img_features).reshape(1,-1)\n",
    "    return model.predict(img_features),img_features2"
   ]
  },
  {
   "cell_type": "code",
   "execution_count": 10,
   "metadata": {},
   "outputs": [],
   "source": [
    "video_path = 'ibrahim.mp4'\n",
    "cap = cv2.VideoCapture(video_path)\n",
    "frame_width = int(cap.get(3))\n",
    "frame_height = int(cap.get(4)) \n",
    "out = cv2.VideoWriter('test.avi',cv2.VideoWriter_fourcc('M','J','P','G'), 30, (frame_width,frame_height))\n",
    "while True:\n",
    "    ret, frame = cap.read()\n",
    "    if not ret:\n",
    "        break\n",
    "    pose , img_features  = predict_pose(frame, svr) or (None,None)\n",
    "    if pose is not None:\n",
    "        pitch, yaw, roll = pose[0]\n",
    "        # iwant the postion of arrows to be in the middle of the face so what i shoudld give in tdx and tdy in draw axis function\n",
    "        draw_axis(frame, pitch, yaw, roll,tdx=img_features[10] * frame_width,tdy=img_features[11] * frame_height,size = 100)\n",
    "    out.write(frame)\n"
   ]
  },
  {
   "cell_type": "code",
   "execution_count": null,
   "metadata": {},
   "outputs": [],
   "source": []
  }
 ],
 "metadata": {
  "kernelspec": {
   "display_name": "Python 3",
   "language": "python",
   "name": "python3"
  },
  "language_info": {
   "codemirror_mode": {
    "name": "ipython",
    "version": 3
   },
   "file_extension": ".py",
   "mimetype": "text/x-python",
   "name": "python",
   "nbconvert_exporter": "python",
   "pygments_lexer": "ipython3",
   "version": "3.11.5"
  }
 },
 "nbformat": 4,
 "nbformat_minor": 2
}
